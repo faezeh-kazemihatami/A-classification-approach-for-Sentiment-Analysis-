{
 "cells": [
  {
   "cell_type": "markdown",
   "metadata": {},
   "source": [
    "### importing libraries:"
   ]
  },
  {
   "cell_type": "code",
   "execution_count": 81,
   "metadata": {},
   "outputs": [
    {
     "name": "stderr",
     "output_type": "stream",
     "text": [
      "[nltk_data] Downloading package punkt to\n",
      "[nltk_data]     C:\\Users\\Faeze\\AppData\\Roaming\\nltk_data...\n",
      "[nltk_data]   Package punkt is already up-to-date!\n",
      "[nltk_data] Downloading package stopwords to\n",
      "[nltk_data]     C:\\Users\\Faeze\\AppData\\Roaming\\nltk_data...\n",
      "[nltk_data]   Package stopwords is already up-to-date!\n"
     ]
    },
    {
     "data": {
      "text/plain": [
       "True"
      ]
     },
     "execution_count": 81,
     "metadata": {},
     "output_type": "execute_result"
    }
   ],
   "source": [
    "from collections import Counter\n",
    "import csv\n",
    "import re\n",
    "import pandas as pd\n",
    "import numpy as np\n",
    "\n",
    "from sklearn.model_selection import ParameterGrid\n",
    "from sklearn.feature_extraction.text import TfidfVectorizer\n",
    "from sklearn.pipeline import Pipeline\n",
    "from sklearn.feature_extraction.text import CountVectorizer, TfidfVectorizer, TfidfTransformer\n",
    "from sklearn.model_selection import train_test_split, GridSearchCV\n",
    "from sklearn import svm\n",
    "from sklearn.feature_selection import SelectKBest, chi2\n",
    "from sklearn.metrics import classification_report, f1_score, accuracy_score, confusion_matrix\n",
    "from sklearn.svm import SVC\n",
    "from sklearn.naive_bayes import MultinomialNB, ComplementNB\n",
    "from sklearn.preprocessing import MinMaxScaler\n",
    "from sklearn.linear_model import LogisticRegression\n",
    "\n",
    "import matplotlib as plt\n",
    "import matplotlib.pyplot as plt\n",
    "from wordcloud import WordCloud\n",
    "import seaborn as sns\n",
    "import emoji\n",
    "import string\n",
    "\n",
    "import nltk\n",
    "from nltk.tokenize import TweetTokenizer\n",
    "from  nltk.stem.snowball import EnglishStemmer\n",
    "from nltk.tokenize import word_tokenize\n",
    "from nltk.corpus import stopwords\n",
    "nltk.download('punkt')\n",
    "nltk.download('stopwords')"
   ]
  },
  {
   "cell_type": "markdown",
   "metadata": {},
   "source": [
    "### reading data"
   ]
  },
  {
   "cell_type": "code",
   "execution_count": 63,
   "metadata": {},
   "outputs": [],
   "source": [
    "data_dev = pd.read_csv(\"development.csv\")\n",
    "data_dev.drop(columns=['date', 'flag', 'user','ids'] , inplace = True)\n",
    "data_ev = pd.read_csv(\"evaluation.csv\")\n",
    "data_ev.drop(columns=['date', 'flag', 'user','ids'] , inplace = True)"
   ]
  },
  {
   "cell_type": "code",
   "execution_count": 64,
   "metadata": {},
   "outputs": [
    {
     "data": {
      "text/html": [
       "<div>\n",
       "<style scoped>\n",
       "    .dataframe tbody tr th:only-of-type {\n",
       "        vertical-align: middle;\n",
       "    }\n",
       "\n",
       "    .dataframe tbody tr th {\n",
       "        vertical-align: top;\n",
       "    }\n",
       "\n",
       "    .dataframe thead th {\n",
       "        text-align: right;\n",
       "    }\n",
       "</style>\n",
       "<table border=\"1\" class=\"dataframe\">\n",
       "  <thead>\n",
       "    <tr style=\"text-align: right;\">\n",
       "      <th></th>\n",
       "      <th>sentiment</th>\n",
       "      <th>text</th>\n",
       "    </tr>\n",
       "  </thead>\n",
       "  <tbody>\n",
       "    <tr>\n",
       "      <th>0</th>\n",
       "      <td>1</td>\n",
       "      <td>@MissBianca76 Yes, talking helps a lot.. going...</td>\n",
       "    </tr>\n",
       "    <tr>\n",
       "      <th>1</th>\n",
       "      <td>1</td>\n",
       "      <td>SUNSHINE. livingg itttt. imma lie on the grass...</td>\n",
       "    </tr>\n",
       "    <tr>\n",
       "      <th>2</th>\n",
       "      <td>1</td>\n",
       "      <td>@PleaseBeMine Something for your iphone</td>\n",
       "    </tr>\n",
       "    <tr>\n",
       "      <th>3</th>\n",
       "      <td>0</td>\n",
       "      <td>@GabrielSaporta couldn't get in to the after p...</td>\n",
       "    </tr>\n",
       "    <tr>\n",
       "      <th>4</th>\n",
       "      <td>0</td>\n",
       "      <td>@bradiewebbstack awww is andy being mean again...</td>\n",
       "    </tr>\n",
       "    <tr>\n",
       "      <th>...</th>\n",
       "      <td>...</td>\n",
       "      <td>...</td>\n",
       "    </tr>\n",
       "    <tr>\n",
       "      <th>224989</th>\n",
       "      <td>0</td>\n",
       "      <td>@Dropsofreign yeah I hope Iran people reach fr...</td>\n",
       "    </tr>\n",
       "    <tr>\n",
       "      <th>224990</th>\n",
       "      <td>1</td>\n",
       "      <td>Trying the qwerty keypad</td>\n",
       "    </tr>\n",
       "    <tr>\n",
       "      <th>224991</th>\n",
       "      <td>0</td>\n",
       "      <td>I love Jasper &amp;amp; Jackson but that wig in th...</td>\n",
       "    </tr>\n",
       "    <tr>\n",
       "      <th>224992</th>\n",
       "      <td>0</td>\n",
       "      <td>I am really tired and bored and bleh! I feel c...</td>\n",
       "    </tr>\n",
       "    <tr>\n",
       "      <th>224993</th>\n",
       "      <td>1</td>\n",
       "      <td>@alyshatan good luck!! It sounds interesting t...</td>\n",
       "    </tr>\n",
       "  </tbody>\n",
       "</table>\n",
       "<p>224994 rows × 2 columns</p>\n",
       "</div>"
      ],
      "text/plain": [
       "        sentiment                                               text\n",
       "0               1  @MissBianca76 Yes, talking helps a lot.. going...\n",
       "1               1  SUNSHINE. livingg itttt. imma lie on the grass...\n",
       "2               1           @PleaseBeMine Something for your iphone \n",
       "3               0  @GabrielSaporta couldn't get in to the after p...\n",
       "4               0  @bradiewebbstack awww is andy being mean again...\n",
       "...           ...                                                ...\n",
       "224989          0  @Dropsofreign yeah I hope Iran people reach fr...\n",
       "224990          1                          Trying the qwerty keypad \n",
       "224991          0  I love Jasper &amp; Jackson but that wig in th...\n",
       "224992          0  I am really tired and bored and bleh! I feel c...\n",
       "224993          1  @alyshatan good luck!! It sounds interesting t...\n",
       "\n",
       "[224994 rows x 2 columns]"
      ]
     },
     "execution_count": 64,
     "metadata": {},
     "output_type": "execute_result"
    }
   ],
   "source": [
    "data_dev"
   ]
  },
  {
   "cell_type": "code",
   "execution_count": 73,
   "metadata": {},
   "outputs": [
    {
     "name": "stderr",
     "output_type": "stream",
     "text": [
      "C:\\ProgramData\\Anaconda3\\lib\\site-packages\\seaborn\\_decorators.py:36: FutureWarning: Pass the following variable as a keyword arg: x. From version 0.12, the only valid positional argument will be `data`, and passing other arguments without an explicit keyword will result in an error or misinterpretation.\n",
      "  warnings.warn(\n"
     ]
    },
    {
     "data": {
      "image/png": "[encoded data removed]",
      "text/plain": [
       "<Figure size 320x240 with 1 Axes>"
      ]
     },
     "metadata": {
      "needs_background": "light"
     },
     "output_type": "display_data"
    }
   ],
   "source": [
    "\n",
    "classes = set(data_dev['sentiment'])\n",
    "classesfig, ax = plt.subplots(figsize=(4, 3), dpi=80)\n",
    "ax = sns.countplot(data_dev['sentiment'])\n",
    "ax.set_title(\"sentiment distribution\")\n",
    "plt.xlabel('negative tweets   positive tweets')\n",
    "plt.ylabel('number of tweets')\n",
    "plt.show()"
   ]
  },
  {
   "cell_type": "code",
   "execution_count": 75,
   "metadata": {},
   "outputs": [
    {
     "name": "stdout",
     "output_type": "stream",
     "text": [
      "50th percentile: 74, 95th percentile: 136\n"
     ]
    }
   ],
   "source": [
    "data_dev['len'] = data_dev['text'].str.len()\n",
    "pct95 = int(np.ceil(data_dev['len'].quantile(.95)))\n",
    "pct50 = int(np.ceil(data_dev['len'].quantile(.5)))\n",
    "\n",
    "print(f\"50th percentile: {pct50}, 95th percentile: {pct95}\")"
   ]
  },
  {
   "cell_type": "code",
   "execution_count": 76,
   "metadata": {},
   "outputs": [
    {
     "name": "stderr",
     "output_type": "stream",
     "text": [
      "C:\\ProgramData\\Anaconda3\\lib\\site-packages\\seaborn\\distributions.py:2551: FutureWarning: `distplot` is a deprecated function and will be removed in a future version. Please adapt your code to use either `displot` (a figure-level function with similar flexibility) or `histplot` (an axes-level function for histograms).\n",
      "  warnings.warn(msg, FutureWarning)\n",
      "C:\\ProgramData\\Anaconda3\\lib\\site-packages\\seaborn\\distributions.py:2551: FutureWarning: `distplot` is a deprecated function and will be removed in a future version. Please adapt your code to use either `displot` (a figure-level function with similar flexibility) or `histplot` (an axes-level function for histograms).\n",
      "  warnings.warn(msg, FutureWarning)\n"
     ]
    },
    {
     "data": {
      "image/png": "[encoded data removed]",
      "text/plain": [
       "<Figure size 800x300 with 1 Axes>"
      ]
     },
     "metadata": {
      "needs_background": "light"
     },
     "output_type": "display_data"
    }
   ],
   "source": [
    "fig, ax = plt.subplots(figsize=(8, 3), dpi=100)\n",
    "ax = sns.distplot(data_dev['len'].loc[(data_dev['sentiment'] == 1) & (data_dev['len'] < pct95)], bins=50, norm_hist=True, kde=False, label=\"Positive\")\n",
    "ax = sns.distplot(data_dev['len'].loc[(data_dev['sentiment'] == 0) & (data_dev['len'] < pct95)], bins=50, norm_hist=True, kde=False, label=\"Negative\")\n",
    "ax.set_title(\"Tweet length distribution\")\n",
    "plt.xlabel(\"Number of characters\")\n",
    "plt.ylabel(\"Frequency\")\n",
    "ax.legend()\n",
    "plt.show()"
   ]
  },
  {
   "cell_type": "code",
   "execution_count": 66,
   "metadata": {},
   "outputs": [
    {
     "name": "stdout",
     "output_type": "stream",
     "text": [
      "Missing values: 0\n",
      "Number of empty reviews: 0\n"
     ]
    }
   ],
   "source": [
    "n_null = data_dev.isnull().sum().sum()\n",
    "n_empty = data_dev[data_dev['text'] == \"\"].shape[0]\n",
    "\n",
    "print(f\"Missing values: {n_null}\")\n",
    "print(f\"Number of empty reviews: {n_empty}\")"
   ]
  },
  {
   "cell_type": "code",
   "execution_count": 68,
   "metadata": {},
   "outputs": [
    {
     "data": {
      "text/plain": [
       "225076"
      ]
     },
     "execution_count": 68,
     "metadata": {},
     "output_type": "execute_result"
    }
   ],
   "source": [
    "emoticon_chars = [\"❤️\", \"😠\", \"😭\",\"😔\",\"😑\",\"T_T\",\":*\",\"-_-\",\":\\)\", \":\\(\"]\n",
    "count = 0\n",
    "for c in emoticon_chars:\n",
    "    c_count = data_dev['text'].str.contains(c).sum()\n",
    "    if c_count > 0:\n",
    "        count += c_count\n",
    "\n",
    "count"
   ]
  },
  {
   "cell_type": "markdown",
   "metadata": {},
   "source": [
    "## data preprocessing"
   ]
  },
  {
   "cell_type": "code",
   "execution_count": 3,
   "metadata": {},
   "outputs": [],
   "source": [
    "dict_emot = {\n",
    "    ':)': \"happy\",\n",
    "    ':(' : \"sad\" , \n",
    "    '^_^' : \"happy\",\n",
    "    '-__-' : \"angry\",\n",
    "    \"-_-\" : \"angry\",\n",
    "    \":*\" : \"happy\",\n",
    "    \"T_T\" : \"sad\"\n",
    "}\n",
    "\n",
    "def emoji_detection(text):\n",
    "    for e in dict_emot:\n",
    "\n",
    "        if e in text.split():\n",
    "            text = text.replace(e,dict_emot[e],1)\n",
    "    for t in text.split():\n",
    "        emojis = emoji.emoji_lis(t) # Handle Unicode emojis\n",
    "        if len(emojis) > 0:\n",
    "            for e in emojis:\n",
    "                text = text.replace(t,emoji.demojize(e['emoji']),1)\n",
    "            #     for e in emojis:\n",
    "    return text\n"
   ]
  },
  {
   "cell_type": "code",
   "execution_count": 7,
   "metadata": {},
   "outputs": [
    {
     "name": "stdout",
     "output_type": "stream",
     "text": [
      "sarina walk kd\n"
     ]
    }
   ],
   "source": [
    "stop_words = set(stopwords.words(\"english\")) - {'no'}|{'not'}|{'nor'}|{'neither'}\n",
    "stemmer = EnglishStemmer()\n",
    "def clean_text(text):\n",
    "    output_str_lower =re.sub('[A-Z]+', lambda m: m.group(0).lower(), text) # lowercase\n",
    "    output_noss = ' '.join(w for w in output_str_lower.split() if w not in stop_words) #\n",
    "    output_nourl = re.sub(r'http\\S+', '', output_noss)\n",
    "    output_nousername = re.sub(r'@[^\\s]+[\\s]?', '', output_nourl)\n",
    "    output_nospecialcharacter = re.sub(\"[^-9A-Za-z ]\", \"\" , output_nousername)\n",
    "    output_nonumber = re.sub(r'\\s?[0-9]+\\.?[0-9]*','', output_nospecialcharacter)\n",
    "    output_stemming = [stemmer.stem(i) for i in output_nonumber.split()]\n",
    "    output_stemming = ' '.join(output_stemming)\n",
    "    return output_stemming\n",
    "\n",
    "# test cleaning\n",
    "print(clean_text(\"sarina is @faezeh walked this 456 #kd%\"))"
   ]
  },
  {
   "cell_type": "code",
   "execution_count": 5,
   "metadata": {},
   "outputs": [],
   "source": [
    "def tokenize_ours(text):\n",
    "    tweet = TweetTokenizer()\n",
    "    output_tokenized=tweet.tokenize(text)\n",
    "    return output_tokenized"
   ]
  },
  {
   "cell_type": "markdown",
   "metadata": {},
   "source": [
    "### data cleaning"
   ]
  },
  {
   "cell_type": "code",
   "execution_count": 8,
   "metadata": {},
   "outputs": [],
   "source": [
    "# data cleaning\n",
    "data_dev['text'] = data_dev['text'].map(lambda x: emoji_detection(x)) \n",
    "data_dev['text'] = data_dev['text'].map(lambda x: clean_text(x)) \n",
    "data_ev['text'] = data_ev['text'].map(lambda x: emoji_detection(x)) \n",
    "data_ev['text'] = data_ev['text'].map(lambda x: clean_text(x)) "
   ]
  },
  {
   "cell_type": "markdown",
   "metadata": {},
   "source": [
    "### vectorizing data"
   ]
  },
  {
   "cell_type": "code",
   "execution_count": 10,
   "metadata": {},
   "outputs": [
    {
     "name": "stdout",
     "output_type": "stream",
     "text": [
      "(224994, 166793)\n"
     ]
    }
   ],
   "source": [
    "vectorizer_unbounded = TfidfVectorizer(input='content', tokenizer=tokenize_ours, min_df=2, ngram_range=(1,2))\n",
    "X = vectorizer_unbounded.fit_transform(data_dev['text'])\n",
    "print(X.shape)"
   ]
  },
  {
   "cell_type": "code",
   "execution_count": 54,
   "metadata": {},
   "outputs": [
    {
     "name": "stdout",
     "output_type": "stream",
     "text": [
      "(224994, 10000)\n"
     ]
    }
   ],
   "source": [
    "#we set max features to 10000 to avoid overfitting\n",
    "vectorizer = TfidfVectorizer(input='content', tokenizer=tokenize_ours, min_df=2, ngram_range=(1,2) ,max_features=10000)\n",
    "X = vectorizer.fit_transform(data_dev['text'])\n",
    "print(X.shape)"
   ]
  },
  {
   "cell_type": "code",
   "execution_count": 12,
   "metadata": {},
   "outputs": [],
   "source": [
    "y = data_dev['sentiment']"
   ]
  },
  {
   "cell_type": "code",
   "execution_count": 13,
   "metadata": {},
   "outputs": [],
   "source": [
    "X_train, X_test, y_train, y_test = train_test_split(X, y, test_size=0.2, random_state=42)"
   ]
  },
  {
   "cell_type": "markdown",
   "metadata": {},
   "source": [
    "#### Nayive Bayes:"
   ]
  },
  {
   "cell_type": "code",
   "execution_count": 37,
   "metadata": {},
   "outputs": [
    {
     "name": "stdout",
     "output_type": "stream",
     "text": [
      "              precision    recall  f1-score   support\n",
      "\n",
      "           0     0.7619    0.6499    0.7015     19068\n",
      "           1     0.7677    0.8507    0.8071     25931\n",
      "\n",
      "    accuracy                         0.7656     44999\n",
      "   macro avg     0.7648    0.7503    0.7543     44999\n",
      "weighted avg     0.7653    0.7656    0.7623     44999\n",
      "\n"
     ]
    }
   ],
   "source": [
    "clf = MultinomialNB()\n",
    "clf.fit(X_train, y_train)\n",
    "y_pred = clf.predict(X_test)\n",
    "print(classification_report(y_test, y_pred, digits=4))"
   ]
  },
  {
   "cell_type": "code",
   "execution_count": 18,
   "metadata": {},
   "outputs": [
    {
     "name": "stdout",
     "output_type": "stream",
     "text": [
      "Fitting 3 folds for each of 19 candidates, totalling 57 fits\n"
     ]
    },
    {
     "name": "stderr",
     "output_type": "stream",
     "text": [
      "[Parallel(n_jobs=4)]: Using backend LokyBackend with 4 concurrent workers.\n",
      "[Parallel(n_jobs=4)]: Done   5 tasks      | elapsed:    0.3s\n",
      "[Parallel(n_jobs=4)]: Done  10 tasks      | elapsed:    0.5s\n",
      "[Parallel(n_jobs=4)]: Done  17 tasks      | elapsed:    0.9s\n",
      "[Parallel(n_jobs=4)]: Done  24 tasks      | elapsed:    1.1s\n",
      "[Parallel(n_jobs=4)]: Done  33 tasks      | elapsed:    1.6s\n",
      "[Parallel(n_jobs=4)]: Done  42 tasks      | elapsed:    2.0s\n",
      "[Parallel(n_jobs=4)]: Done  57 out of  57 | elapsed:    2.7s finished\n"
     ]
    },
    {
     "name": "stdout",
     "output_type": "stream",
     "text": [
      "              precision    recall  f1-score   support\n",
      "\n",
      "           0     0.7656    0.6452    0.7003     19068\n",
      "           1     0.7662    0.8548    0.8080     25931\n",
      "\n",
      "    accuracy                         0.7660     44999\n",
      "   macro avg     0.7659    0.7500    0.7542     44999\n",
      "weighted avg     0.7659    0.7660    0.7624     44999\n",
      "\n"
     ]
    }
   ],
   "source": [
    "params = {\n",
    "    'alpha': np.arange(0.1,2,0.1)\n",
    "}\n",
    "\n",
    "# print(params['gamma'])\n",
    "\n",
    "model = MultinomialNB()\n",
    "clf = GridSearchCV(model, param_grid=params, scoring='f1_weighted', cv=3, n_jobs=4,verbose=10 )\n",
    "clf.fit(X_train, y_train)\n",
    "y_pred = clf.predict(X_test)\n",
    "print(classification_report(y_test, y_pred, digits=4))"
   ]
  },
  {
   "cell_type": "code",
   "execution_count": 15,
   "metadata": {},
   "outputs": [
    {
     "data": {
      "text/plain": [
       "{'alpha': 1.1}"
      ]
     },
     "execution_count": 15,
     "metadata": {},
     "output_type": "execute_result"
    }
   ],
   "source": [
    "clf.best_params_"
   ]
  },
  {
   "cell_type": "code",
   "execution_count": 20,
   "metadata": {},
   "outputs": [],
   "source": [
    "import matplotlib.pyplot as plt\n",
    "\n"
   ]
  },
  {
   "cell_type": "code",
   "execution_count": 25,
   "metadata": {
    "scrolled": true
   },
   "outputs": [
    {
     "data": {
      "image/png": "[encoded data removed]",
      "text/plain": [
       "<Figure size 360x360 with 1 Axes>"
      ]
     },
     "metadata": {
      "needs_background": "light"
     },
     "output_type": "display_data"
    }
   ],
   "source": [
    "# Calculate the confusion matrix\n",
    "#\n",
    "conf_matrix = confusion_matrix(y_true=y_test, y_pred=y_pred)\n",
    "#\n",
    "# Print the confusion matrix using Matplotlib\n",
    "#\n",
    "fig, ax = plt.subplots(figsize=(5, 5))\n",
    "ax.matshow(conf_matrix, cmap=plt.cm.Blues, alpha=0.3)\n",
    "for i in range(conf_matrix.shape[0]):\n",
    "    for j in range(conf_matrix.shape[1]):\n",
    "        ax.text(x=j, y=i,s=conf_matrix[i, j], va='center', ha='center', size='large')\n",
    "plt.xlabel('Predictions', fontsize=18)\n",
    "plt.ylabel('Actuals', fontsize=18)\n",
    "plt.title('Confusion Matrix', fontsize=15)\n",
    "plt.show()"
   ]
  },
  {
   "cell_type": "markdown",
   "metadata": {},
   "source": [
    "#### SVM:"
   ]
  },
  {
   "cell_type": "code",
   "execution_count": 26,
   "metadata": {},
   "outputs": [
    {
     "name": "stdout",
     "output_type": "stream",
     "text": [
      "Fitting 2 folds for each of 4 candidates, totalling 8 fits\n"
     ]
    },
    {
     "name": "stderr",
     "output_type": "stream",
     "text": [
      "[Parallel(n_jobs=4)]: Using backend LokyBackend with 4 concurrent workers.\n",
      "[Parallel(n_jobs=4)]: Done   2 out of   8 | elapsed:    3.7s remaining:   11.4s\n",
      "[Parallel(n_jobs=4)]: Done   3 out of   8 | elapsed:   30.1s remaining:   50.2s\n",
      "[Parallel(n_jobs=4)]: Done   4 out of   8 | elapsed:   34.6s remaining:   34.6s\n",
      "[Parallel(n_jobs=4)]: Done   5 out of   8 | elapsed:  4.3min remaining:  2.6min\n",
      "[Parallel(n_jobs=4)]: Done   6 out of   8 | elapsed:  5.1min remaining:  1.7min\n",
      "[Parallel(n_jobs=4)]: Done   8 out of   8 | elapsed:  9.5min remaining:    0.0s\n",
      "[Parallel(n_jobs=4)]: Done   8 out of   8 | elapsed:  9.5min finished\n"
     ]
    },
    {
     "data": {
      "text/plain": [
       "GridSearchCV(cv=2,\n",
       "             estimator=LinearSVC(class_weight='balanced', dual=False,\n",
       "                                 intercept_scaling=0.001, max_iter=10000,\n",
       "                                 random_state=1, tol=1e-09),\n",
       "             n_jobs=4, param_grid={'C': [1, 10, 100, 1000]},\n",
       "             scoring='f1_weighted', verbose=10)"
      ]
     },
     "execution_count": 26,
     "metadata": {},
     "output_type": "execute_result"
    }
   ],
   "source": [
    "params = {\n",
    "    'C': [1,10,100,1000]\n",
    "}\n",
    "\n",
    "# print(params['gamma'])\n",
    "\n",
    "svc = svm.LinearSVC(tol=1e-9, dual=False, intercept_scaling=0.001, loss=\"squared_hinge\", max_iter=10000, random_state=1, class_weight='balanced')\n",
    "\n",
    "clf = GridSearchCV(svc, param_grid=params, scoring='f1_weighted', cv=3, n_jobs=4,verbose=10 )\n",
    "clf.fit(X_train, y_train)"
   ]
  },
  {
   "cell_type": "code",
   "execution_count": 27,
   "metadata": {},
   "outputs": [
    {
     "data": {
      "text/plain": [
       "0.7565095450612722"
      ]
     },
     "execution_count": 27,
     "metadata": {},
     "output_type": "execute_result"
    }
   ],
   "source": [
    "clf.best_score_"
   ]
  },
  {
   "cell_type": "code",
   "execution_count": 28,
   "metadata": {},
   "outputs": [
    {
     "data": {
      "text/plain": [
       "{'C': 1}"
      ]
     },
     "execution_count": 28,
     "metadata": {},
     "output_type": "execute_result"
    }
   ],
   "source": [
    "clf.best_params_"
   ]
  },
  {
   "cell_type": "code",
   "execution_count": 44,
   "metadata": {},
   "outputs": [],
   "source": [
    "model = svm.LinearSVC(C=1, tol=1e-9, dual=False, intercept_scaling=0.001, loss=\"squared_hinge\", max_iter=10000, random_state=1, class_weight='balanced') \n",
    "model.fit(X_train, y_train)\n",
    "y_pred = model.predict(X_test)\n",
    "score = f1_score(y_test, y_pred, average='weighted')"
   ]
  },
  {
   "cell_type": "code",
   "execution_count": 45,
   "metadata": {},
   "outputs": [
    {
     "data": {
      "text/plain": [
       "0.7679792912201788"
      ]
     },
     "execution_count": 45,
     "metadata": {},
     "output_type": "execute_result"
    }
   ],
   "source": [
    "score"
   ]
  },
  {
   "cell_type": "code",
   "execution_count": 48,
   "metadata": {},
   "outputs": [],
   "source": [
    "model = svm.LinearSVC(C=0.9, tol=1e-9, dual=False, intercept_scaling=0.001, loss=\"squared_hinge\", max_iter=10000, random_state=1, class_weight='balanced') \n",
    "model.fit(X_train, y_train)\n",
    "y_pred = model.predict(X_test)\n",
    "score = f1_score(y_test, y_pred, average='weighted')"
   ]
  },
  {
   "cell_type": "code",
   "execution_count": 49,
   "metadata": {},
   "outputs": [
    {
     "data": {
      "text/plain": [
       "0.7681725266127436"
      ]
     },
     "execution_count": 49,
     "metadata": {},
     "output_type": "execute_result"
    }
   ],
   "source": [
    "score"
   ]
  },
  {
   "cell_type": "code",
   "execution_count": 32,
   "metadata": {},
   "outputs": [],
   "source": [
    "    model = svm.LinearSVC(C=1.3, tol=1e-9, dual=False, intercept_scaling=0.001, loss=\"squared_hinge\", max_iter=10000, random_state=1, class_weight='balanced') \n",
    "    model.fit(X_train, y_train)\n",
    "    y_pred = model.predict(X_test)\n",
    "    score = f1_score(y_test, y_pred, average='weighted')"
   ]
  },
  {
   "cell_type": "code",
   "execution_count": 33,
   "metadata": {},
   "outputs": [
    {
     "name": "stdout",
     "output_type": "stream",
     "text": [
      "0.7696679733850028\n"
     ]
    }
   ],
   "source": [
    "print(score)"
   ]
  },
  {
   "cell_type": "code",
   "execution_count": 50,
   "metadata": {},
   "outputs": [],
   "source": [
    "params = {\n",
    "  \"min_df\": [1, 2, 3, 4], \n",
    "  \"max_df\": [0.3, 0.35, 0.4, 0.45, 0.5, 0.55],\n",
    "  \"ngram_range\": [(1,1), (1,2), (1,3)]\n",
    "}\n",
    "\n",
    "max_acc = 0\n",
    "best_config = 0\n",
    "j = 0\n",
    "for config in ParameterGrid(params):\n",
    "    pipe = Pipeline([('count', CountVectorizer(**config,  token_pattern=r'\\b[^\\d\\W]+\\b' )), ('tfid', TfidfTransformer())])\n",
    "    vectors = pipe.fit_transform(data_dev.text) \n",
    "    X = vectors\n",
    "    y = data_dev['sentiment']\n",
    "    X_train, X_test, y_train, y_test = train_test_split(X, y, test_size=0.2, random_state=42)\n",
    "    model = svm.LinearSVC(C=1.3, tol=1e-9, dual=False, intercept_scaling=0.001, loss=\"squared_hinge\", max_iter=10000, random_state=1, class_weight='balanced')\n",
    "    model.fit(X_train, y_train)\n",
    "    y_pred = model.predict(X_test)\n",
    "    score = f1_score(y_test, y_pred, average='weighted')\n",
    "#     print(\"Model configuration n.\", j)\n",
    "#     print(\"Parameter\", config)\n",
    "#     print(\"F1 score: \", score)\n",
    "    if score > max_acc:\n",
    "      max_acc = score\n",
    "      best_config = config\n",
    "    j += 1"
   ]
  },
  {
   "cell_type": "code",
   "execution_count": 39,
   "metadata": {},
   "outputs": [
    {
     "name": "stdout",
     "output_type": "stream",
     "text": [
      "0.7741404522705367\n",
      "{'max_df': 0.3, 'min_df': 1, 'ngram_range': (1, 3)}\n"
     ]
    }
   ],
   "source": [
    "print(max_acc)\n",
    "print(best_config)"
   ]
  },
  {
   "cell_type": "code",
   "execution_count": 41,
   "metadata": {},
   "outputs": [
    {
     "name": "stdout",
     "output_type": "stream",
     "text": [
      "              precision    recall  f1-score   support\n",
      "\n",
      "           0     0.7465    0.7100    0.7278     19068\n",
      "           1     0.7942    0.8227    0.8082     25931\n",
      "\n",
      "    accuracy                         0.7750     44999\n",
      "   macro avg     0.7704    0.7664    0.7680     44999\n",
      "weighted avg     0.7740    0.7750    0.7741     44999\n",
      "\n"
     ]
    }
   ],
   "source": [
    "pipe = Pipeline([('count', CountVectorizer(max_df= 0.3, min_df= 1, ngram_range= (1, 3),  token_pattern=r'\\b[^\\d\\W]+\\b' )), ('tfid', TfidfTransformer())])\n",
    "X = pipe.fit_transform(data_dev.text)\n",
    "y = data_dev['sentiment']\n",
    "X_train, X_test, y_train, y_test = train_test_split(X, y, test_size=0.2, random_state=42)\n",
    "model = svm.LinearSVC(C=1.3, tol=1e-9, dual=False, intercept_scaling=0.001, loss=\"squared_hinge\", max_iter=10000, random_state=1, class_weight='balanced') \n",
    "model.fit(X_train, y_train)\n",
    "y_pred = model.predict(X_test)\n",
    "print(classification_report(y_test, y_pred, digits=4))"
   ]
  },
  {
   "cell_type": "markdown",
   "metadata": {},
   "source": [
    "#### Logistic Regression:"
   ]
  },
  {
   "cell_type": "code",
   "execution_count": 57,
   "metadata": {},
   "outputs": [
    {
     "name": "stdout",
     "output_type": "stream",
     "text": [
      "Fitting 3 folds for each of 11 candidates, totalling 33 fits\n"
     ]
    },
    {
     "name": "stderr",
     "output_type": "stream",
     "text": [
      "[Parallel(n_jobs=4)]: Using backend LokyBackend with 4 concurrent workers.\n",
      "[Parallel(n_jobs=4)]: Done   5 tasks      | elapsed:    6.9s\n",
      "[Parallel(n_jobs=4)]: Done  10 tasks      | elapsed:   10.8s\n",
      "[Parallel(n_jobs=4)]: Done  17 tasks      | elapsed:   18.5s\n",
      "[Parallel(n_jobs=4)]: Done  24 tasks      | elapsed:   26.2s\n",
      "[Parallel(n_jobs=4)]: Done  30 out of  33 | elapsed:   31.8s remaining:    3.1s\n",
      "[Parallel(n_jobs=4)]: Done  33 out of  33 | elapsed:   34.0s finished\n"
     ]
    },
    {
     "name": "stdout",
     "output_type": "stream",
     "text": [
      "              precision    recall  f1-score   support\n",
      "\n",
      "           0     0.7733    0.6802    0.7238     19068\n",
      "           1     0.7840    0.8534    0.8172     25931\n",
      "\n",
      "    accuracy                         0.7800     44999\n",
      "   macro avg     0.7786    0.7668    0.7705     44999\n",
      "weighted avg     0.7795    0.7800    0.7776     44999\n",
      "\n"
     ]
    }
   ],
   "source": [
    "params = {\n",
    "    'C': [1,1.1,1.2,1.3,1.4,1.5,1.6,1.7,1.8,1.9,2]\n",
    "}\n",
    "\n",
    "# print(params['gamma'])\n",
    "\n",
    "# svc = svm.LinearSVC(tol=1e-9, dual=False, intercept_scaling=0.001, loss=\"squared_hinge\", max_iter=10000, random_state=1, class_weight='balanced')\n",
    "\n",
    "clf = GridSearchCV(LogisticRegression(penalty='l1',solver='liblinear', max_iter = 10000), param_grid=params, scoring='f1_weighted', cv=3, n_jobs=4,verbose=10 )\n",
    "clf.fit(X_train, y_train)\n",
    "y_pred = clf.predict(X_test)\n",
    "print(classification_report(y_test, y_pred, digits=4))"
   ]
  },
  {
   "cell_type": "code",
   "execution_count": 58,
   "metadata": {},
   "outputs": [
    {
     "data": {
      "text/plain": [
       "{'C': 1.5}"
      ]
     },
     "execution_count": 58,
     "metadata": {},
     "output_type": "execute_result"
    }
   ],
   "source": [
    "clf.best_params_"
   ]
  },
  {
   "cell_type": "code",
   "execution_count": 15,
   "metadata": {},
   "outputs": [
    {
     "name": "stdout",
     "output_type": "stream",
     "text": [
      "Model configuration n. 0\n",
      "Parameter {'max_df': 0.3, 'min_df': 1, 'ngram_range': (1, 1)}\n",
      "F1 score:  0.7700776108338757\n",
      "Model configuration n. 1\n",
      "Parameter {'max_df': 0.3, 'min_df': 1, 'ngram_range': (1, 2)}\n",
      "F1 score:  0.7779735620536427\n",
      "Model configuration n. 2\n",
      "Parameter {'max_df': 0.3, 'min_df': 1, 'ngram_range': (1, 3)}\n",
      "F1 score:  0.7749891584603001\n",
      "Model configuration n. 3\n",
      "Parameter {'max_df': 0.3, 'min_df': 2, 'ngram_range': (1, 1)}\n",
      "F1 score:  0.7704076962790574\n",
      "Model configuration n. 4\n",
      "Parameter {'max_df': 0.3, 'min_df': 2, 'ngram_range': (1, 2)}\n",
      "F1 score:  0.7789144706632518\n",
      "Model configuration n. 5\n",
      "Parameter {'max_df': 0.3, 'min_df': 2, 'ngram_range': (1, 3)}\n",
      "F1 score:  0.7785390935356808\n",
      "Model configuration n. 6\n",
      "Parameter {'max_df': 0.3, 'min_df': 3, 'ngram_range': (1, 1)}\n",
      "F1 score:  0.7708463528366803\n",
      "Model configuration n. 7\n",
      "Parameter {'max_df': 0.3, 'min_df': 3, 'ngram_range': (1, 2)}\n",
      "F1 score:  0.7793083057790938\n",
      "Model configuration n. 8\n",
      "Parameter {'max_df': 0.3, 'min_df': 3, 'ngram_range': (1, 3)}\n",
      "F1 score:  0.7789013131724587\n",
      "Model configuration n. 9\n",
      "Parameter {'max_df': 0.3, 'min_df': 4, 'ngram_range': (1, 1)}\n",
      "F1 score:  0.7711843022837576\n",
      "Model configuration n. 10\n",
      "Parameter {'max_df': 0.3, 'min_df': 4, 'ngram_range': (1, 2)}\n",
      "F1 score:  0.7788450565189908\n",
      "Model configuration n. 11\n",
      "Parameter {'max_df': 0.3, 'min_df': 4, 'ngram_range': (1, 3)}\n",
      "F1 score:  0.7794393091676792\n",
      "Model configuration n. 12\n",
      "Parameter {'max_df': 0.35, 'min_df': 1, 'ngram_range': (1, 1)}\n",
      "F1 score:  0.7700776108338757\n",
      "Model configuration n. 13\n",
      "Parameter {'max_df': 0.35, 'min_df': 1, 'ngram_range': (1, 2)}\n",
      "F1 score:  0.7779735620536427\n",
      "Model configuration n. 14\n",
      "Parameter {'max_df': 0.35, 'min_df': 1, 'ngram_range': (1, 3)}\n",
      "F1 score:  0.7749891584603001\n",
      "Model configuration n. 15\n",
      "Parameter {'max_df': 0.35, 'min_df': 2, 'ngram_range': (1, 1)}\n",
      "F1 score:  0.7704315593260866\n",
      "Model configuration n. 16\n",
      "Parameter {'max_df': 0.35, 'min_df': 2, 'ngram_range': (1, 2)}\n",
      "F1 score:  0.7788933278446764\n",
      "Model configuration n. 17\n",
      "Parameter {'max_df': 0.35, 'min_df': 2, 'ngram_range': (1, 3)}\n",
      "F1 score:  0.7785179524218545\n",
      "Model configuration n. 18\n",
      "Parameter {'max_df': 0.35, 'min_df': 3, 'ngram_range': (1, 1)}\n",
      "F1 score:  0.7708463528366803\n",
      "Model configuration n. 19\n",
      "Parameter {'max_df': 0.35, 'min_df': 3, 'ngram_range': (1, 2)}\n",
      "F1 score:  0.7793083057790938\n",
      "Model configuration n. 20\n",
      "Parameter {'max_df': 0.35, 'min_df': 3, 'ngram_range': (1, 3)}\n",
      "F1 score:  0.7789013131724587\n",
      "Model configuration n. 21\n",
      "Parameter {'max_df': 0.35, 'min_df': 4, 'ngram_range': (1, 1)}\n",
      "F1 score:  0.7711843022837576\n",
      "Model configuration n. 22\n",
      "Parameter {'max_df': 0.35, 'min_df': 4, 'ngram_range': (1, 2)}\n",
      "F1 score:  0.7788688143972571\n",
      "Model configuration n. 23\n",
      "Parameter {'max_df': 0.35, 'min_df': 4, 'ngram_range': (1, 3)}\n",
      "F1 score:  0.7794393091676792\n",
      "Model configuration n. 24\n",
      "Parameter {'max_df': 0.4, 'min_df': 1, 'ngram_range': (1, 1)}\n",
      "F1 score:  0.7700776108338757\n",
      "Model configuration n. 25\n",
      "Parameter {'max_df': 0.4, 'min_df': 1, 'ngram_range': (1, 2)}\n",
      "F1 score:  0.7779735620536427\n",
      "Model configuration n. 26\n",
      "Parameter {'max_df': 0.4, 'min_df': 1, 'ngram_range': (1, 3)}\n",
      "F1 score:  0.7749891584603001\n",
      "Model configuration n. 27\n",
      "Parameter {'max_df': 0.4, 'min_df': 2, 'ngram_range': (1, 1)}\n",
      "F1 score:  0.7704315593260866\n",
      "Model configuration n. 28\n",
      "Parameter {'max_df': 0.4, 'min_df': 2, 'ngram_range': (1, 2)}\n",
      "F1 score:  0.7788933278446764\n",
      "Model configuration n. 29\n",
      "Parameter {'max_df': 0.4, 'min_df': 2, 'ngram_range': (1, 3)}\n",
      "F1 score:  0.7785152905284791\n",
      "Model configuration n. 30\n",
      "Parameter {'max_df': 0.4, 'min_df': 3, 'ngram_range': (1, 1)}\n",
      "F1 score:  0.7708463528366803\n",
      "Model configuration n. 31\n",
      "Parameter {'max_df': 0.4, 'min_df': 3, 'ngram_range': (1, 2)}\n",
      "F1 score:  0.7793083057790938\n",
      "Model configuration n. 32\n",
      "Parameter {'max_df': 0.4, 'min_df': 3, 'ngram_range': (1, 3)}\n",
      "F1 score:  0.7788775324524768\n",
      "Model configuration n. 33\n",
      "Parameter {'max_df': 0.4, 'min_df': 4, 'ngram_range': (1, 1)}\n",
      "F1 score:  0.7711604787352672\n",
      "Model configuration n. 34\n",
      "Parameter {'max_df': 0.4, 'min_df': 4, 'ngram_range': (1, 2)}\n",
      "F1 score:  0.7788450565189908\n",
      "Model configuration n. 35\n",
      "Parameter {'max_df': 0.4, 'min_df': 4, 'ngram_range': (1, 3)}\n",
      "F1 score:  0.7794181492426939\n",
      "Model configuration n. 36\n",
      "Parameter {'max_df': 0.45, 'min_df': 1, 'ngram_range': (1, 1)}\n",
      "F1 score:  0.7701254370634383\n",
      "Model configuration n. 37\n",
      "Parameter {'max_df': 0.45, 'min_df': 1, 'ngram_range': (1, 2)}\n",
      "F1 score:  0.7779735620536427\n",
      "Model configuration n. 38\n",
      "Parameter {'max_df': 0.45, 'min_df': 1, 'ngram_range': (1, 3)}\n",
      "F1 score:  0.7749891584603001\n",
      "Model configuration n. 39\n",
      "Parameter {'max_df': 0.45, 'min_df': 2, 'ngram_range': (1, 1)}\n",
      "F1 score:  0.7704076962790574\n",
      "Model configuration n. 40\n",
      "Parameter {'max_df': 0.45, 'min_df': 2, 'ngram_range': (1, 2)}\n",
      "F1 score:  0.7788721850431196\n",
      "Model configuration n. 41\n",
      "Parameter {'max_df': 0.45, 'min_df': 2, 'ngram_range': (1, 3)}\n",
      "F1 score:  0.7785628960191715\n",
      "Model configuration n. 42\n",
      "Parameter {'max_df': 0.45, 'min_df': 3, 'ngram_range': (1, 1)}\n",
      "F1 score:  0.7708674490463395\n",
      "Model configuration n. 43\n",
      "Parameter {'max_df': 0.45, 'min_df': 3, 'ngram_range': (1, 2)}\n",
      "F1 score:  0.7792184475974078\n",
      "Model configuration n. 44\n",
      "Parameter {'max_df': 0.45, 'min_df': 3, 'ngram_range': (1, 3)}\n",
      "F1 score:  0.7788775324524768\n",
      "Model configuration n. 45\n",
      "Parameter {'max_df': 0.45, 'min_df': 4, 'ngram_range': (1, 1)}\n",
      "F1 score:  0.7711843022837576\n",
      "Model configuration n. 46\n",
      "Parameter {'max_df': 0.45, 'min_df': 4, 'ngram_range': (1, 2)}\n",
      "F1 score:  0.7788450565189908\n",
      "Model configuration n. 47\n",
      "Parameter {'max_df': 0.45, 'min_df': 4, 'ngram_range': (1, 3)}\n",
      "F1 score:  0.7794393091676792\n",
      "Model configuration n. 48\n",
      "Parameter {'max_df': 0.5, 'min_df': 1, 'ngram_range': (1, 1)}\n",
      "F1 score:  0.7700776108338757\n",
      "Model configuration n. 49\n",
      "Parameter {'max_df': 0.5, 'min_df': 1, 'ngram_range': (1, 2)}\n",
      "F1 score:  0.7779735620536427\n",
      "Model configuration n. 50\n",
      "Parameter {'max_df': 0.5, 'min_df': 1, 'ngram_range': (1, 3)}\n",
      "F1 score:  0.774968092869635\n",
      "Model configuration n. 51\n",
      "Parameter {'max_df': 0.5, 'min_df': 2, 'ngram_range': (1, 1)}\n",
      "F1 score:  0.7704076962790574\n",
      "Model configuration n. 52\n",
      "Parameter {'max_df': 0.5, 'min_df': 2, 'ngram_range': (1, 2)}\n",
      "F1 score:  0.7788721850431196\n",
      "Model configuration n. 53\n",
      "Parameter {'max_df': 0.5, 'min_df': 2, 'ngram_range': (1, 3)}\n",
      "F1 score:  0.7785390935356808\n",
      "Model configuration n. 54\n",
      "Parameter {'max_df': 0.5, 'min_df': 3, 'ngram_range': (1, 1)}\n",
      "F1 score:  0.7708463528366803\n",
      "Model configuration n. 55\n",
      "Parameter {'max_df': 0.5, 'min_df': 3, 'ngram_range': (1, 2)}\n",
      "F1 score:  0.779242225154142\n",
      "Model configuration n. 56\n",
      "Parameter {'max_df': 0.5, 'min_df': 3, 'ngram_range': (1, 3)}\n",
      "F1 score:  0.7788775324524768\n",
      "Model configuration n. 57\n",
      "Parameter {'max_df': 0.5, 'min_df': 4, 'ngram_range': (1, 1)}\n",
      "F1 score:  0.7711843022837576\n",
      "Model configuration n. 58\n",
      "Parameter {'max_df': 0.5, 'min_df': 4, 'ngram_range': (1, 2)}\n",
      "F1 score:  0.7788450565189908\n",
      "Model configuration n. 59\n",
      "Parameter {'max_df': 0.5, 'min_df': 4, 'ngram_range': (1, 3)}\n",
      "F1 score:  0.7794393091676792\n",
      "Model configuration n. 60\n",
      "Parameter {'max_df': 0.55, 'min_df': 1, 'ngram_range': (1, 1)}\n",
      "F1 score:  0.7701015242200544\n",
      "Model configuration n. 61\n",
      "Parameter {'max_df': 0.55, 'min_df': 1, 'ngram_range': (1, 2)}\n",
      "F1 score:  0.7779496342896297\n",
      "Model configuration n. 62\n",
      "Parameter {'max_df': 0.55, 'min_df': 1, 'ngram_range': (1, 3)}\n",
      "F1 score:  0.774904896294513\n",
      "Model configuration n. 63\n",
      "Parameter {'max_df': 0.55, 'min_df': 2, 'ngram_range': (1, 1)}\n",
      "F1 score:  0.7704076962790574\n",
      "Model configuration n. 64\n",
      "Parameter {'max_df': 0.55, 'min_df': 2, 'ngram_range': (1, 2)}\n",
      "F1 score:  0.7789171297209563\n",
      "Model configuration n. 65\n",
      "Parameter {'max_df': 0.55, 'min_df': 2, 'ngram_range': (1, 3)}\n",
      "F1 score:  0.7785152905284791\n",
      "Model configuration n. 66\n",
      "Parameter {'max_df': 0.55, 'min_df': 3, 'ngram_range': (1, 1)}\n",
      "F1 score:  0.7708463528366803\n",
      "Model configuration n. 67\n",
      "Parameter {'max_df': 0.55, 'min_df': 3, 'ngram_range': (1, 2)}\n",
      "F1 score:  0.7792871539777597\n",
      "Model configuration n. 68\n",
      "Parameter {'max_df': 0.55, 'min_df': 3, 'ngram_range': (1, 3)}\n",
      "F1 score:  0.7788775324524768\n",
      "Model configuration n. 69\n",
      "Parameter {'max_df': 0.55, 'min_df': 4, 'ngram_range': (1, 1)}\n",
      "F1 score:  0.7711843022837576\n"
     ]
    },
    {
     "name": "stdout",
     "output_type": "stream",
     "text": [
      "Model configuration n. 70\n",
      "Parameter {'max_df': 0.55, 'min_df': 4, 'ngram_range': (1, 2)}\n",
      "F1 score:  0.7788450565189908\n",
      "Model configuration n. 71\n",
      "Parameter {'max_df': 0.55, 'min_df': 4, 'ngram_range': (1, 3)}\n",
      "F1 score:  0.7794181492426939\n"
     ]
    }
   ],
   "source": [
    "params = {\n",
    "  \"min_df\": [1, 2, 3, 4], \n",
    "  \"max_df\": [0.3, 0.35, 0.4, 0.45, 0.5, 0.55],\n",
    "  \"ngram_range\": [(1,1), (1,2), (1,3)]\n",
    "}\n",
    "\n",
    "max_acc = 0\n",
    "best_config = 0\n",
    "j = 0\n",
    "for config in ParameterGrid(params):\n",
    "    pipe = Pipeline([('count', CountVectorizer(**config,  token_pattern=r'\\b[^\\d\\W]+\\b' )), ('tfid', TfidfTransformer())])\n",
    "    vectors = pipe.fit_transform(data_dev.text) \n",
    "    X = vectors\n",
    "    y = data_dev['sentiment']\n",
    "    X_train, X_test, y_train, y_test = train_test_split(X, y, test_size=0.2, random_state=42)\n",
    "    model = LogisticRegression(penalty='l1',solver='liblinear', max_iter = 10000 , C=1.5) \n",
    "    model.fit(X_train, y_train)\n",
    "    y_pred = model.predict(X_test)\n",
    "    score = f1_score(y_test, y_pred, average='weighted')\n",
    "    print(\"Model configuration n.\", j)\n",
    "    print(\"Parameter\", config)\n",
    "    print(\"F1 score: \", score)\n",
    "    if score > max_acc:\n",
    "      max_acc = score\n",
    "      best_config = config\n",
    "    j += 1"
   ]
  },
  {
   "cell_type": "code",
   "execution_count": 16,
   "metadata": {},
   "outputs": [
    {
     "name": "stdout",
     "output_type": "stream",
     "text": [
      "0.7794393091676792\n",
      "{'max_df': 0.3, 'min_df': 4, 'ngram_range': (1, 3)}\n"
     ]
    }
   ],
   "source": [
    "print(max_acc)\n",
    "print(best_config)"
   ]
  },
  {
   "cell_type": "code",
   "execution_count": 17,
   "metadata": {},
   "outputs": [
    {
     "name": "stdout",
     "output_type": "stream",
     "text": [
      "              precision    recall  f1-score   support\n",
      "\n",
      "           0     0.7747    0.6838    0.7264     19068\n",
      "           1     0.7859    0.8538    0.8184     25931\n",
      "\n",
      "    accuracy                         0.7817     44999\n",
      "   macro avg     0.7803    0.7688    0.7724     44999\n",
      "weighted avg     0.7812    0.7817    0.7794     44999\n",
      "\n"
     ]
    }
   ],
   "source": [
    "pipe = Pipeline([('count', CountVectorizer(max_df= 0.3, min_df= 4, ngram_range= (1, 3),  token_pattern=r'\\b[^\\d\\W]+\\b' )), ('tfid', TfidfTransformer())])\n",
    "X = pipe.fit_transform(data_dev.text)\n",
    "y = data_dev['sentiment']\n",
    "X_train, X_test, y_train, y_test = train_test_split(X, y, test_size=0.2, random_state=42)\n",
    "model = LogisticRegression(penalty='l1',solver='liblinear', max_iter = 10000 , C=1.5) \n",
    "model.fit(X_train, y_train)\n",
    "y_pred = model.predict(X_test)\n",
    "print(classification_report(y_test, y_pred, digits=4))"
   ]
  },
  {
   "cell_type": "code",
   "execution_count": 19,
   "metadata": {},
   "outputs": [],
   "source": [
    "ev_x = pipe.transform(data_ev.text) \n",
    "dim_red = SelectKBest(chi2, k=10000)\n",
    "data_red = dim_red.fit_transform(vectors, data_dev['sentiment'])\n",
    "ev_x = dim_red.transform(ev_x)\n",
    "model.fit(data_red, data_dev['sentiment'])\n",
    "y_pred = model.predict(ev_x)\n",
    "\n"
   ]
  },
  {
   "cell_type": "code",
   "execution_count": 22,
   "metadata": {},
   "outputs": [],
   "source": [
    "f = open('answers3.csv', 'w',newline='')\n",
    "with f:\n",
    "    writer = csv.writer(f)\n",
    "    writer.writerow(['Id', 'Predicted'])\n",
    "    for i in range(len(y_pred)):\n",
    "        writer.writerow([i,y_pred[i]])"
   ]
  }
 ],
 "metadata": {
  "kernelspec": {
   "display_name": "Python 3",
   "language": "python",
   "name": "python3"
  },
  "language_info": {
   "codemirror_mode": {
    "name": "ipython",
    "version": 3
   },
   "file_extension": ".py",
   "mimetype": "text/x-python",
   "name": "python",
   "nbconvert_exporter": "python",
   "pygments_lexer": "ipython3",
   "version": "3.8.5"
  }
 },
 "nbformat": 4,
 "nbformat_minor": 4
}
